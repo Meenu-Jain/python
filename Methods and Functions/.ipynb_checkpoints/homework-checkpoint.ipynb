{
 "cells": [
  {
   "cell_type": "code",
   "execution_count": 2,
   "metadata": {},
   "outputs": [],
   "source": [
    "#Define a function called myfunc that takes in a name and prints 'Hello Name'\n",
    "\n",
    "def myfunc(name):\n",
    "    print('Hello {}'. format(name))"
   ]
  },
  {
   "cell_type": "code",
   "execution_count": 3,
   "metadata": {},
   "outputs": [
    {
     "name": "stdout",
     "output_type": "stream",
     "text": [
      "Hello Jose\n"
     ]
    }
   ],
   "source": [
    "myfunc('Jose')"
   ]
  },
  {
   "cell_type": "code",
   "execution_count": 5,
   "metadata": {},
   "outputs": [],
   "source": [
    "#Define a function called myfunc that takes in a Boolean value (True or False). If True, return 'Hello', and False,\n",
    "#return 'Goodbye'\n",
    "\n",
    "def myfunc(a):\n",
    "    if a == True:\n",
    "        print('Hello')\n",
    "    elif a == False:\n",
    "        print('GoodBye')"
   ]
  },
  {
   "cell_type": "code",
   "execution_count": 7,
   "metadata": {},
   "outputs": [
    {
     "name": "stdout",
     "output_type": "stream",
     "text": [
      "GoodBye\n"
     ]
    }
   ],
   "source": [
    "myfunc(False)"
   ]
  },
  {
   "cell_type": "code",
   "execution_count": 12,
   "metadata": {},
   "outputs": [
    {
     "data": {
      "text/plain": [
       "'GoodBye'"
      ]
     },
     "execution_count": 12,
     "metadata": {},
     "output_type": "execute_result"
    }
   ],
   "source": [
    "#Define a function called myfunc that takes three arguments, x,y and z. If z is true,\n",
    "#return x. If z is False, return y\n",
    "\n",
    "def myfunc(x,y,z):\n",
    "    if z == True:\n",
    "        return x\n",
    "    else:\n",
    "        return y\n",
    "    \n",
    "myfunc('Hello','GoodBye',False)    "
   ]
  },
  {
   "cell_type": "code",
   "execution_count": 14,
   "metadata": {},
   "outputs": [
    {
     "data": {
      "text/plain": [
       "30"
      ]
     },
     "execution_count": 14,
     "metadata": {},
     "output_type": "execute_result"
    }
   ],
   "source": [
    "#Define a function callsed myfunc that takes two arguments and returns their sum\n",
    "\n",
    "def myfunc(a,b):\n",
    "    return a+b\n",
    "\n",
    "\n",
    "myfunc(10,20)"
   ]
  },
  {
   "cell_type": "code",
   "execution_count": 16,
   "metadata": {},
   "outputs": [],
   "source": [
    "#Define a function called is_even that takes in one argument, and returns True if the passed-in value is even,\n",
    "#False if it is not\n",
    "\n",
    "def is_even(a):    \n",
    "    if a % 2 == 0:\n",
    "        return True    \n",
    "    else:\n",
    "        return False"
   ]
  },
  {
   "cell_type": "code",
   "execution_count": 17,
   "metadata": {},
   "outputs": [
    {
     "data": {
      "text/plain": [
       "True"
      ]
     },
     "execution_count": 17,
     "metadata": {},
     "output_type": "execute_result"
    }
   ],
   "source": [
    "is_even(2)"
   ]
  },
  {
   "cell_type": "code",
   "execution_count": 18,
   "metadata": {},
   "outputs": [
    {
     "data": {
      "text/plain": [
       "False"
      ]
     },
     "execution_count": 18,
     "metadata": {},
     "output_type": "execute_result"
    }
   ],
   "source": [
    "is_even(3)"
   ]
  },
  {
   "cell_type": "code",
   "execution_count": 1,
   "metadata": {},
   "outputs": [
    {
     "data": {
      "text/plain": [
       "89"
      ]
     },
     "execution_count": 1,
     "metadata": {},
     "output_type": "execute_result"
    }
   ],
   "source": [
    "#Define a function called myfunc that takes in an arbitrary number of arguments, and returns the sum of those arguments\n",
    "\n",
    "def myfunc(*args):\n",
    "    return sum(args)\n",
    "\n",
    "\n",
    "myfunc(19,23,23,24)\n",
    "\n",
    "\n",
    "\n"
   ]
  },
  {
   "cell_type": "code",
   "execution_count": 3,
   "metadata": {},
   "outputs": [
    {
     "data": {
      "text/plain": [
       "[24, 26, 28]"
      ]
     },
     "execution_count": 3,
     "metadata": {},
     "output_type": "execute_result"
    }
   ],
   "source": [
    "#Define a function called myfunc that takes in an arbitrary number of arguments, and returns a list containing only \n",
    "#those arguments that are even.\n",
    "\n",
    "def myfunc(*args):\n",
    "    lst = [item for item in args if item % 2 == 0]\n",
    "    return lst                       \n",
    "       \n",
    "\n",
    "myfunc(19,23,23,24, 26,28)"
   ]
  },
  {
   "cell_type": "code",
   "execution_count": 32,
   "metadata": {},
   "outputs": [
    {
     "data": {
      "text/plain": [
       "['This', 'first', 'Python', 'Course']"
      ]
     },
     "execution_count": 32,
     "metadata": {},
     "output_type": "execute_result"
    }
   ],
   "source": [
    "#Define a function called myfunc that takes in a string, and returns a matching string where every even letter is \n",
    "#uppercase, Assume that the incoming string only contains letters, and don't worry about numbers, spaces or punctuation.\n",
    "\n",
    "def myfunc(text):\n",
    "    lst = text.split()\n",
    "    new = []\n",
    "    for word in lst:\n",
    "        if len(word) % 2 == 0:\n",
    "            for letter in word:\n",
    "                if letter == letter.upper():               \n",
    "                    new.append(word)\n",
    "                    break\n",
    "        else:\n",
    "            for letter in word:\n",
    "                if letter == letter.lower():               \n",
    "                    new.append(word)\n",
    "                    break\n",
    "    return new                \n",
    "\n",
    "myfunc('This is my first Python Course')\n",
    "       "
   ]
  },
  {
   "cell_type": "code",
   "execution_count": 36,
   "metadata": {},
   "outputs": [
    {
     "data": {
      "text/plain": [
       "2"
      ]
     },
     "execution_count": 36,
     "metadata": {},
     "output_type": "execute_result"
    }
   ],
   "source": [
    "#LESSER OF TWO EVENS: Write a function that returns the lesser of two given numbers if both numbers are even, but returns the greater if one or both numbers are odd¶\n",
    "\n",
    "def lesser_of_two_evens(a,b):    \n",
    "    if a % 2 == 0 and b % 2 == 0:\n",
    "        if a < b:\n",
    "            return a\n",
    "        else: \n",
    "            return b\n",
    "    else: \n",
    "        if a > b:\n",
    "            return a\n",
    "        else: \n",
    "            return b\n",
    "\n",
    "lesser_of_two_evens(2,44) \n",
    "\n",
    "\n"
   ]
  },
  {
   "cell_type": "code",
   "execution_count": 38,
   "metadata": {},
   "outputs": [
    {
     "data": {
      "text/plain": [
       "False"
      ]
     },
     "execution_count": 38,
     "metadata": {},
     "output_type": "execute_result"
    }
   ],
   "source": [
    "#ANIMAL CRACKERS: Write a function takes a two-word string and returns True if both words begin with same letter\n",
    "\n",
    "def animal_crackers(a,b):    \n",
    "    if a[0] == b[0]:\n",
    "        return True\n",
    "    else: \n",
    "        return False\n",
    "\n",
    "animal_crackers('test','dulip') \n",
    "\n"
   ]
  },
  {
   "cell_type": "code",
   "execution_count": 43,
   "metadata": {},
   "outputs": [
    {
     "data": {
      "text/plain": [
       "False"
      ]
     },
     "execution_count": 43,
     "metadata": {},
     "output_type": "execute_result"
    }
   ],
   "source": [
    "#MAKES TWENTY: Given two integers, return True if the sum of the integers is 20 or if one of the integers is 20. If not, return False\n",
    "\n",
    "def makes_twenty(a,b):    \n",
    "    if ((a+b == 20) or (a == 20 or b == 20)):\n",
    "        return True\n",
    "    else: \n",
    "        return False\n",
    "\n",
    "makes_twenty(5,10)"
   ]
  },
  {
   "cell_type": "code",
   "execution_count": 44,
   "metadata": {},
   "outputs": [
    {
     "data": {
      "text/plain": [
       "'MacDonald'"
      ]
     },
     "execution_count": 44,
     "metadata": {},
     "output_type": "execute_result"
    }
   ],
   "source": [
    "#OLD MACDONALD: Write a function that capitalizes the first and fourth letters of a name\n",
    "\n",
    "def old_macdonald(name):\n",
    "    return (name[0].upper()+name[1:3].lower()+name[3].upper()+name[4:].lower())\n",
    "\n",
    "old_macdonald('macdonald')\n",
    "\n",
    "\n"
   ]
  },
  {
   "cell_type": "code",
   "execution_count": 54,
   "metadata": {},
   "outputs": [],
   "source": [
    "#MASTER YODA: Given a sentence, return a sentence with the words reversed\n",
    "\n",
    "def master_yoda(x):\n",
    "    words = x.split()\n",
    "    words = list(reversed(words))\n",
    "    \n",
    "    for i in reversed(x.split()):\n",
    "        return new.append(i);\n",
    "    \n",
    "    \n",
    "\n",
    "master_yoda(\"I am home\")\n",
    "\n",
    "\n",
    "\n"
   ]
  },
  {
   "cell_type": "code",
   "execution_count": null,
   "metadata": {},
   "outputs": [],
   "source": []
  },
  {
   "cell_type": "code",
   "execution_count": null,
   "metadata": {},
   "outputs": [],
   "source": []
  }
 ],
 "metadata": {
  "kernelspec": {
   "display_name": "Python 3",
   "language": "python",
   "name": "python3"
  },
  "language_info": {
   "codemirror_mode": {
    "name": "ipython",
    "version": 3
   },
   "file_extension": ".py",
   "mimetype": "text/x-python",
   "name": "python",
   "nbconvert_exporter": "python",
   "pygments_lexer": "ipython3",
   "version": "3.8.6"
  }
 },
 "nbformat": 4,
 "nbformat_minor": 4
}
