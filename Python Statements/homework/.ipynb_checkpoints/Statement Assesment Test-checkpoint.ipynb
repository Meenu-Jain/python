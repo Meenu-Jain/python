{
 "cells": [
  {
   "cell_type": "code",
   "execution_count": 16,
   "metadata": {},
   "outputs": [
    {
     "name": "stdout",
     "output_type": "stream",
     "text": [
      "start\n",
      "s\n",
      "sentence\n"
     ]
    }
   ],
   "source": [
    "# Use for, .split(), and if to create a Statement that will print out words that start with 's':\n",
    "\n",
    "s = 'Print only the words that start with s in this sentence'\n",
    "\n",
    "for word in s.split():\n",
    "    if word[0] == 's':\n",
    "        print (word)"
   ]
  },
  {
   "cell_type": "code",
   "execution_count": 24,
   "metadata": {},
   "outputs": [
    {
     "data": {
      "text/plain": [
       "[3, 6, 9, 12, 15, 18, 21, 24, 27, 30, 33, 36, 39, 42, 45, 48]"
      ]
     },
     "execution_count": 24,
     "metadata": {},
     "output_type": "execute_result"
    }
   ],
   "source": [
    "# Use a List Comprehension to create a list of all numbers between 1 and 50 that are divisible by 3.**\n",
    "\n",
    "lst = [x for x in range(1,50) if x % 3 == 0]\n",
    "lst\n",
    "\n"
   ]
  },
  {
   "cell_type": "code",
   "execution_count": 44,
   "metadata": {},
   "outputs": [
    {
     "name": "stdout",
     "output_type": "stream",
     "text": [
      "word: has en even length\n",
      "in: has en even length\n",
      "this: has en even length\n",
      "sentence: has en even length\n",
      "that: has en even length\n",
      "an: has en even length\n",
      "even: has en even length\n",
      "number: has en even length\n",
      "of: has en even length\n"
     ]
    }
   ],
   "source": [
    "# Go through the string below and if the length of a word is even print \"even!\"\n",
    "\n",
    "st = 'Print every word in this sentence that has an even number of letters'\n",
    "\n",
    "for word in st.split():\n",
    "    if len(word)%2 == 0:\n",
    "        print(word+ \": has en even length\")\n",
    "\n",
    "\n"
   ]
  },
  {
   "cell_type": "code",
   "execution_count": 53,
   "metadata": {},
   "outputs": [
    {
     "name": "stdout",
     "output_type": "stream",
     "text": [
      "1\n",
      "2\n",
      "FizzBuzz\n",
      "4\n",
      "Buzz\n",
      "FizzBuzz\n",
      "7\n",
      "8\n",
      "FizzBuzz\n",
      "Buzz\n",
      "11\n",
      "FizzBuzz\n",
      "13\n",
      "14\n",
      "FizzBuzz\n",
      "16\n",
      "17\n",
      "FizzBuzz\n",
      "19\n",
      "Buzz\n",
      "FizzBuzz\n",
      "22\n",
      "23\n",
      "FizzBuzz\n",
      "Buzz\n",
      "26\n",
      "FizzBuzz\n",
      "28\n",
      "29\n",
      "FizzBuzz\n",
      "31\n",
      "32\n",
      "FizzBuzz\n",
      "34\n",
      "Buzz\n",
      "FizzBuzz\n",
      "37\n",
      "38\n",
      "FizzBuzz\n",
      "Buzz\n",
      "41\n",
      "FizzBuzz\n",
      "43\n",
      "44\n",
      "FizzBuzz\n",
      "46\n",
      "47\n",
      "FizzBuzz\n",
      "49\n",
      "Buzz\n",
      "FizzBuzz\n",
      "52\n",
      "53\n",
      "FizzBuzz\n",
      "Buzz\n",
      "56\n",
      "FizzBuzz\n",
      "58\n",
      "59\n",
      "FizzBuzz\n",
      "61\n",
      "62\n",
      "FizzBuzz\n",
      "64\n",
      "Buzz\n",
      "FizzBuzz\n",
      "67\n",
      "68\n",
      "FizzBuzz\n",
      "Buzz\n",
      "71\n",
      "FizzBuzz\n",
      "73\n",
      "74\n",
      "FizzBuzz\n",
      "76\n",
      "77\n",
      "FizzBuzz\n",
      "79\n",
      "Buzz\n",
      "FizzBuzz\n",
      "82\n",
      "83\n",
      "FizzBuzz\n",
      "Buzz\n",
      "86\n",
      "FizzBuzz\n",
      "88\n",
      "89\n",
      "FizzBuzz\n",
      "91\n",
      "92\n",
      "FizzBuzz\n",
      "94\n",
      "Buzz\n",
      "FizzBuzz\n",
      "97\n",
      "98\n",
      "FizzBuzz\n"
     ]
    }
   ],
   "source": [
    "# Write a program that prints the integer from  1 to 100\n",
    "\n",
    "for item in range(1,100):\n",
    "    if (item % 3 == 0 and item % 5 == 0):\n",
    "        print(\"FizzBuzz\")\n",
    "    elif (item % 5 == 0):\n",
    "        print(\"Buzz\")\n",
    "    elif (item % 3 == 0):\n",
    "        print(\"FizzBuzz\")\n",
    "    else:\n",
    "        print(item)    "
   ]
  },
  {
   "cell_type": "code",
   "execution_count": null,
   "metadata": {},
   "outputs": [],
   "source": [
    "#Use List Comprehension to create a list of the first letters of every word in the string below\n",
    "\n",
    "st = 'Create a list of the first letters of every word in this string'\n",
    "\n",
    "lst = [x**2 for x in range(0,11)]\n",
    "\n"
   ]
  }
 ],
 "metadata": {
  "kernelspec": {
   "display_name": "Python 3",
   "language": "python",
   "name": "python3"
  },
  "language_info": {
   "codemirror_mode": {
    "name": "ipython",
    "version": 3
   },
   "file_extension": ".py",
   "mimetype": "text/x-python",
   "name": "python",
   "nbconvert_exporter": "python",
   "pygments_lexer": "ipython3",
   "version": "3.8.6"
  }
 },
 "nbformat": 4,
 "nbformat_minor": 4
}
