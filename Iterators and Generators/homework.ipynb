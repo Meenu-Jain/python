{
 "cells": [
  {
   "cell_type": "code",
   "execution_count": 1,
   "metadata": {},
   "outputs": [
    {
     "name": "stdout",
     "output_type": "stream",
     "text": [
      "0\n",
      "1\n",
      "4\n",
      "9\n",
      "16\n",
      "25\n",
      "36\n",
      "49\n",
      "64\n",
      "81\n"
     ]
    }
   ],
   "source": [
    "#Create a generator that generates the squares of numbers up to some number N.\n",
    "\n",
    "def gensquares(N):\n",
    "    for i in range(N):\n",
    "        yield i**2\n",
    "        \n",
    "for x in gensquares(10):\n",
    "    print(x)"
   ]
  },
  {
   "cell_type": "code",
   "execution_count": 2,
   "metadata": {},
   "outputs": [
    {
     "name": "stdout",
     "output_type": "stream",
     "text": [
      "7\n",
      "9\n",
      "1\n",
      "1\n",
      "10\n",
      "2\n",
      "9\n",
      "9\n",
      "10\n",
      "8\n",
      "4\n",
      "2\n"
     ]
    }
   ],
   "source": [
    "# Problem 2\n",
    "# Create a generator that yields \"n\" random numbers between a low and high number (that are inputs).\n",
    "# Note: Use the random library. For example:\n",
    "\n",
    "import random\n",
    "\n",
    "random.randint(1,10)\n",
    "\n",
    "def rand_num(low,high,n):\n",
    "    \n",
    "    for i in range(n):\n",
    "        yield random.randint(low, high)\n",
    "        \n",
    "for num in rand_num(1,10,12):\n",
    "    print(num)"
   ]
  },
  {
   "cell_type": "code",
   "execution_count": 3,
   "metadata": {},
   "outputs": [
    {
     "name": "stdout",
     "output_type": "stream",
     "text": [
      "h\n"
     ]
    }
   ],
   "source": [
    "# Problem 3\n",
    "# Use the iter() function to convert the string below into an iterator:\n",
    "\n",
    "s = 'hello'\n",
    "\n",
    "s = iter(s)\n",
    "\n",
    "print(next(s))"
   ]
  },
  {
   "cell_type": "code",
   "execution_count": null,
   "metadata": {},
   "outputs": [],
   "source": []
  }
 ],
 "metadata": {
  "kernelspec": {
   "display_name": "Python 3",
   "language": "python",
   "name": "python3"
  },
  "language_info": {
   "codemirror_mode": {
    "name": "ipython",
    "version": 3
   },
   "file_extension": ".py",
   "mimetype": "text/x-python",
   "name": "python",
   "nbconvert_exporter": "python",
   "pygments_lexer": "ipython3",
   "version": "3.8.6"
  }
 },
 "nbformat": 4,
 "nbformat_minor": 4
}
